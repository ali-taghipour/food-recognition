{
 "cells": [
  {
   "cell_type": "markdown",
   "id": "2eca0e09-b8c6-4ee9-9da7-8099e1734e23",
   "metadata": {},
   "source": [
    "## Download repo and installing required packages"
   ]
  },
  {
   "cell_type": "code",
   "execution_count": null,
   "id": "9158d8cf-1803-45ef-8e2c-86ec728ab0c8",
   "metadata": {},
   "outputs": [],
   "source": [
    "#!git clone https://github.com/THU-MIG/yolov10.git"
   ]
  },
  {
   "cell_type": "code",
   "execution_count": null,
   "id": "5d4a041d-606c-4a42-adbf-382de4593de5",
   "metadata": {},
   "outputs": [],
   "source": [
    "#cd yolov10"
   ]
  },
  {
   "cell_type": "code",
   "execution_count": null,
   "id": "28587f23-196c-470b-ba3c-be9e7319dc13",
   "metadata": {},
   "outputs": [],
   "source": [
    "!pip install ."
   ]
  },
  {
   "cell_type": "markdown",
   "id": "7389f876-3751-426c-bf6a-f6424b33e3ac",
   "metadata": {},
   "source": [
    "## Downloading pretrained weights"
   ]
  },
  {
   "cell_type": "code",
   "execution_count": null,
   "id": "24314248-11a6-4570-b095-5070ffcca066",
   "metadata": {},
   "outputs": [],
   "source": [
    "import os\n",
    "import urllib.request\n",
    "\n",
    "# Create a directory for the weights in the current working directory\n",
    "weights_dir = os.path.join(os.getcwd(), \"weights\")\n",
    "os.makedirs(weights_dir, exist_ok=True)\n",
    "\n",
    "# URLs of the weight files\n",
    "urls = [\n",
    "    \"https://github.com/jameslahm/yolov10/releases/download/v1.0/yolov10n.pt\",\n",
    "    \"https://github.com/jameslahm/yolov10/releases/download/v1.0/yolov10s.pt\",\n",
    "    \"https://github.com/jameslahm/yolov10/releases/download/v1.0/yolov10m.pt\",\n",
    "    \"https://github.com/jameslahm/yolov10/releases/download/v1.0/yolov10b.pt\",\n",
    "    \"https://github.com/jameslahm/yolov10/releases/download/v1.0/yolov10x.pt\",\n",
    "    \"https://github.com/jameslahm/yolov10/releases/download/v1.0/yolov10l.pt\"\n",
    "]\n",
    "\n",
    "# Download each file\n",
    "for url in urls:\n",
    "    file_name = os.path.join(weights_dir, os.path.basename(url))\n",
    "    urllib.request.urlretrieve(url, file_name)\n",
    "    print(f\"Downloaded {file_name}\")"
   ]
  },
  {
   "cell_type": "markdown",
   "id": "63628ece-d8fe-4c1e-ab80-69fec9518d8b",
   "metadata": {},
   "source": [
    "## Train Custom Model\n"
   ]
  },
  {
   "cell_type": "code",
   "execution_count": null,
   "id": "5d94b10a-4c0f-452a-83cc-2e4b5e6bdeda",
   "metadata": {},
   "outputs": [],
   "source": [
    "!yolo task=detect mode=train epochs=100 batch=32 plots=True model=weights/yolov10n.pt data=config.yaml"
   ]
  },
  {
   "cell_type": "markdown",
   "id": "a3baba09-e68b-40f2-be77-fdd3201626d5",
   "metadata": {},
   "source": [
    "## Inference"
   ]
  },
  {
   "cell_type": "code",
   "execution_count": null,
   "id": "16dcd117-10af-4e4b-bcbf-7ef8b74c926c",
   "metadata": {},
   "outputs": [],
   "source": [
    "!yolo task=detect mode=predict conf=0.25 save=True model=runs/detect/train/weights/best.pt source=test_images_1/veh2.jpg"
   ]
  }
 ],
 "metadata": {
  "kernelspec": {
   "display_name": "Python 3 (ipykernel)",
   "language": "python",
   "name": "python3"
  },
  "language_info": {
   "codemirror_mode": {
    "name": "ipython",
    "version": 3
   },
   "file_extension": ".py",
   "mimetype": "text/x-python",
   "name": "python",
   "nbconvert_exporter": "python",
   "pygments_lexer": "ipython3",
   "version": "3.9.19"
  }
 },
 "nbformat": 4,
 "nbformat_minor": 5
}
