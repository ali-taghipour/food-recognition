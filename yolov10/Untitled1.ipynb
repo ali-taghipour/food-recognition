{
 "cells": [
  {
   "cell_type": "code",
   "execution_count": 1,
   "id": "756e342f-7411-46cd-8284-4ecc1e70b879",
   "metadata": {},
   "outputs": [],
   "source": [
    "import torch"
   ]
  },
  {
   "cell_type": "code",
   "execution_count": 2,
   "id": "4183f6c6-9e11-46b0-be9d-5df604dfead2",
   "metadata": {},
   "outputs": [
    {
     "name": "stdout",
     "output_type": "stream",
     "text": [
      "True\n"
     ]
    }
   ],
   "source": [
    "print(torch.cuda.is_available())"
   ]
  },
  {
   "cell_type": "code",
   "execution_count": 8,
   "id": "9583866e-0abd-497e-a978-49e0d360bc50",
   "metadata": {},
   "outputs": [
    {
     "name": "stdout",
     "output_type": "stream",
     "text": [
      "NVIDIA GeForce RTX 4050 Laptop GPU\n"
     ]
    }
   ],
   "source": [
    "print(torch.cuda.get_device_name(0))"
   ]
  },
  {
   "cell_type": "code",
   "execution_count": 4,
   "id": "7161dbbe-65bb-49aa-987e-3ab8f1aff587",
   "metadata": {},
   "outputs": [
    {
     "data": {
      "text/plain": [
       "'2.3.1+cu121'"
      ]
     },
     "execution_count": 4,
     "metadata": {},
     "output_type": "execute_result"
    }
   ],
   "source": [
    "torch.__version__"
   ]
  },
  {
   "cell_type": "code",
   "execution_count": 6,
   "id": "920f76d6-a5d4-4dad-927f-b953dd9f35b5",
   "metadata": {},
   "outputs": [
    {
     "data": {
      "text/plain": [
       "1"
      ]
     },
     "execution_count": 6,
     "metadata": {},
     "output_type": "execute_result"
    }
   ],
   "source": [
    "torch.cuda.device_count()"
   ]
  },
  {
   "cell_type": "code",
   "execution_count": 9,
   "id": "bb2f254e-8e3a-4fe6-972e-d82cde687397",
   "metadata": {},
   "outputs": [
    {
     "name": "stdout",
     "output_type": "stream",
     "text": [
      "Mon Jul  8 14:33:44 2024       \n",
      "+-----------------------------------------------------------------------------------------+\n",
      "| NVIDIA-SMI 552.22                 Driver Version: 552.22         CUDA Version: 12.4     |\n",
      "|-----------------------------------------+------------------------+----------------------+\n",
      "| GPU  Name                     TCC/WDDM  | Bus-Id          Disp.A | Volatile Uncorr. ECC |\n",
      "| Fan  Temp   Perf          Pwr:Usage/Cap |           Memory-Usage | GPU-Util  Compute M. |\n",
      "|                                         |                        |               MIG M. |\n",
      "|=========================================+========================+======================|\n",
      "|   0  NVIDIA GeForce RTX 4050 ...  WDDM  |   00000000:01:00.0 Off |                  N/A |\n",
      "| N/A   44C    P8              1W /   99W |       0MiB /   6141MiB |      0%      Default |\n",
      "|                                         |                        |                  N/A |\n",
      "+-----------------------------------------+------------------------+----------------------+\n",
      "                                                                                         \n",
      "+-----------------------------------------------------------------------------------------+\n",
      "| Processes:                                                                              |\n",
      "|  GPU   GI   CI        PID   Type   Process name                              GPU Memory |\n",
      "|        ID   ID                                                               Usage      |\n",
      "|=========================================================================================|\n",
      "|  No running processes found                                                             |\n",
      "+-----------------------------------------------------------------------------------------+\n"
     ]
    }
   ],
   "source": [
    "!nvidia-smi"
   ]
  },
  {
   "cell_type": "code",
   "execution_count": 4,
   "id": "3b76ed3c-bc1d-4e75-a789-464a9ed9f24d",
   "metadata": {},
   "outputs": [
    {
     "name": "stdout",
     "output_type": "stream",
     "text": [
      "CPU_time =  34.80473065376282\n",
      "GPU_time =  0.0\n",
      "GPU time: 0.12033 seconds\n"
     ]
    }
   ],
   "source": [
    "# Matrix Multiplication\n",
    "dim=8000\n",
    "\n",
    "x=torch.randn(dim,dim)\n",
    "y=torch.randn(dim,dim)\n",
    "start_time = time.time()\n",
    "z=torch.matmul(x,y)\n",
    "elapsed_time = time.time() - start_time\n",
    "print('CPU_time = ',elapsed_time)\n",
    "\n",
    "\n",
    "x=torch.randn(dim,dim,device=torch.device(\"cuda:0\"))\n",
    "y=torch.randn(dim,dim,device=torch.device(\"cuda:0\"))\n",
    "start_time = time.time()\n",
    "z=torch.matmul(x,y)\n",
    "elapsed_time = time.time() - start_time\n",
    "print('GPU_time = ',elapsed_time)\n",
    "print(f'GPU time: {gpu_time:.5f} seconds')"
   ]
  },
  {
   "cell_type": "code",
   "execution_count": null,
   "id": "774d0fb3-3708-4563-8388-3973a4fe88b1",
   "metadata": {},
   "outputs": [],
   "source": []
  }
 ],
 "metadata": {
  "kernelspec": {
   "display_name": "Python 3 (ipykernel)",
   "language": "python",
   "name": "python3"
  },
  "language_info": {
   "codemirror_mode": {
    "name": "ipython",
    "version": 3
   },
   "file_extension": ".py",
   "mimetype": "text/x-python",
   "name": "python",
   "nbconvert_exporter": "python",
   "pygments_lexer": "ipython3",
   "version": "3.9.19"
  }
 },
 "nbformat": 4,
 "nbformat_minor": 5
}
